{
  "nbformat": 4,
  "nbformat_minor": 0,
  "metadata": {
    "colab": {
      "provenance": [],
      "authorship_tag": "ABX9TyOOlVh+xdBGwiTJPNwd6xvu",
      "include_colab_link": true
    },
    "kernelspec": {
      "name": "python3",
      "display_name": "Python 3"
    },
    "language_info": {
      "name": "python"
    }
  },
  "cells": [
    {
      "cell_type": "markdown",
      "metadata": {
        "id": "view-in-github",
        "colab_type": "text"
      },
      "source": [
        "<a href=\"https://colab.research.google.com/github/bruninho-design/AjudaOSul.AI-ImersaoAlura/blob/main/AjudaOSulAI.ipynb\" target=\"_parent\"><img src=\"https://colab.research.google.com/assets/colab-badge.svg\" alt=\"Open In Colab\"/></a>"
      ]
    },
    {
      "cell_type": "code",
      "source": [
        "!pip install -q -U google-generativeai\n",
        "!python3 -m -q pip install --upgrade pip\n",
        "!python3 -m -q pip install --upgrade Pillow\n",
        "\n",
        "from google.colab import userdata\n",
        "import pathlib\n",
        "import textwrap\n",
        "import google.generativeai as genai\n",
        "\n",
        "# Configure sua API Key\n",
        "api_key = userdata.get(\"SECRET_KEY\")\n",
        "genai.configure(api_key=api_key)\n",
        "\n",
        "from IPython.display import display\n",
        "from IPython.display import Markdown\n",
        "\n",
        "def to_markdown(text):\n",
        "  text = text.replace('•', '  *')\n",
        "  return Markdown(textwrap.indent(text, '> ', predicate=lambda _: True))\n",
        "\n",
        "# Modelo Generativo para análise de texto e imagem\n",
        "model = genai.GenerativeModel(model_name=\"gemini-pro\")\n",
        "\n",
        "# Função para analisar pedidos de ajuda e gerar relatório com score\n",
        "def analisar_pedido(descricao, url_imagem=None):\n",
        "  # Prompt para a IA\n",
        "  prompt = f\"\"\"Você é um chatbot treinado para ajudar a identificar fraudes em pedidos de ajuda durante enchentes no Rio Grande do Sul.\n",
        "  Analise a descrição a seguir e, se disponível, a imagem. Em seguida, responda com sua conclusão se o pedido é verdadeiro ou fraude,\n",
        "  justificando sua resposta com base na análise textual e visual. Atribua um score de 0 a 100 baseado nos seguintes critérios:\n",
        "\n",
        "  * **Contexto da Imagem (0-40 pontos):** A imagem mostra claramente o cenário da enchente?\n",
        "  * **Descrição do Pedido (0-30 pontos):** A descrição detalha a situação de emergência relacionada às enchentes?\n",
        "  * **Presença de Crianças (0-15 pontos):** Há menção de crianças afetadas na família?\n",
        "  * **Alinhamento entre Imagem e Descrição (0-15 pontos):** A descrição e a imagem estão alinhadas?\n",
        "\n",
        "  **Verificar pedido de ajuda: ** {descricao}\n",
        "  \"\"\"\n",
        "  if url_imagem:\n",
        "      prompt += f\"\\n**Verificar pedido de ajuda: ** (imagem em anexo: {url_imagem})\"\n",
        "\n",
        "  prompt += \"\\n\\n**Chatbot:**\"\n",
        "\n",
        "  # Enviar prompt para o modelo e obter resposta\n",
        "  response = model.generate_content(prompt)\n",
        "\n",
        "  # Exibir relatório da IA em formato de chat\n",
        "  print(response.text)\n",
        "\n",
        "# Loop do chat\n",
        "while True:\n",
        "  # Obter entrada do usuário\n",
        "  descricao = input(\"Verificar pedido de ajuda: \")\n",
        "  url_imagem = input(\"Verificar pedido de ajuda: (URL da imagem - opcional): \")\n",
        "\n",
        "  # Verificar se o usuário deseja sair\n",
        "  if descricao.lower() == \"sair\":\n",
        "    break\n",
        "\n",
        "  # Analisar o pedido e gerar relatório em formato de chat\n",
        "  analisar_pedido(descricao, url_imagem)\n",
        "\n",
        "  print(\"-\" * 50)"
      ],
      "metadata": {
        "id": "DCkOPslGozNI",
        "outputId": "d46e1a8c-3c1d-42e0-f1ac-bf7b6e6410e1",
        "colab": {
          "base_uri": "https://localhost:8080/",
          "height": 324
        }
      },
      "execution_count": null,
      "outputs": [
        {
          "output_type": "stream",
          "name": "stdout",
          "text": [
            "/usr/bin/python3: No module named -q\n",
            "/usr/bin/python3: No module named -q\n",
            "Verificar pedido de ajuda: Nossa casa está inundada há dias. Precisamos de comida e abrigo imediatamente. Tenho três crianças comigo que estão muito assustadas.\n",
            "Verificar pedido de ajuda: (URL da imagem - opcional): https://vermelho.org.br/wp-content/uploads/2024/05/enchente_prefeitura-santa-cruz-do-sul.jpg\n",
            "**Conclusão:** Verdadeiro\n",
            "\n",
            "**Score:** 95\n",
            "\n",
            "**Análise:**\n",
            "\n",
            "* **Contexto da Imagem (40 pontos):** A imagem mostra claramente uma cena de enchente, com água alta e ruas inundadas.\n",
            "* **Descrição do Pedido (30 pontos):** A descrição informa que a casa está inundada há dias e que a família precisa de comida e abrigo imediatamente.\n",
            "* **Presença de Crianças (15 pontos):** A descrição menciona que há três crianças assustadas na família.\n",
            "* **Alinhamento entre Imagem e Descrição (10 pontos):** A descrição e a imagem estão alinhadas, pois ambas se referem a uma situação de enchente e a necessidade de ajuda.\n",
            "--------------------------------------------------\n"
          ]
        }
      ]
    }
  ]
}