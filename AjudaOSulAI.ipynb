{
  "nbformat": 4,
  "nbformat_minor": 0,
  "metadata": {
    "colab": {
      "provenance": [],
      "authorship_tag": "ABX9TyOf9nJqKLwwWClZT8U7mTRp",
      "include_colab_link": true
    },
    "kernelspec": {
      "name": "python3",
      "display_name": "Python 3"
    },
    "language_info": {
      "name": "python"
    }
  },
  "cells": [
    {
      "cell_type": "markdown",
      "metadata": {
        "id": "view-in-github",
        "colab_type": "text"
      },
      "source": [
        "<a href=\"https://colab.research.google.com/github/bruninho-design/AjudaOSul.AI-ImersaoAlura/blob/main/AjudaOSulAI.ipynb\" target=\"_parent\"><img src=\"https://colab.research.google.com/assets/colab-badge.svg\" alt=\"Open In Colab\"/></a>"
      ]
    },
    {
      "cell_type": "markdown",
      "source": [
        "**Instalando o SDK do Google**"
      ],
      "metadata": {
        "id": "iXWRZqs4T7OD"
      }
    },
    {
      "cell_type": "code",
      "execution_count": 1,
      "metadata": {
        "id": "GNgnihpbT1FB"
      },
      "outputs": [],
      "source": [
        "!pip install -q -U google-generativeai"
      ]
    },
    {
      "cell_type": "markdown",
      "source": [
        "# Importando as Lib"
      ],
      "metadata": {
        "id": "UDeggHdqUIia"
      }
    },
    {
      "cell_type": "code",
      "source": [
        "import google.generativeai as genai\n",
        "from google.colab import userdata\n",
        "api_key = userdata.get(\"SECRET_KEY\")\n",
        "genai.configure(api_key=api_key)"
      ],
      "metadata": {
        "id": "60nPWEDjUd6V"
      },
      "execution_count": 3,
      "outputs": []
    },
    {
      "cell_type": "markdown",
      "source": [
        "# Função para analisar a imagem e verificar autenticidade"
      ],
      "metadata": {
        "id": "kGuD0nS7VHIW"
      }
    },
    {
      "cell_type": "code",
      "source": [
        "def analisar_imagem(imagem_url):\n",
        "    # Cria um cliente para a API Vision\n",
        "    client = vision.ImageAnnotatorClient()\n",
        "\n",
        "    # Faz a chamada à API para analisar a imagem\n",
        "    response = client.annotate_image({\n",
        "        'image': {'source': {'image_uri': imagem_url}},\n",
        "        'features': [{'type': vision.Feature.Type.SAFE_SEARCH_DETECTION}],\n",
        "    })\n",
        "\n",
        "    # Verifica se a imagem é considerada segura\n",
        "    safe_search = response.safe_search_annotation\n",
        "\n",
        "    # Atribui pontos com base na análise da imagem\n",
        "    if safe_search.adult == vision.Likelihood.VERY_UNLIKELY and safe_search.spoof == vision.Likelihood.VERY_UNLIKELY:\n",
        "        return 30  # Imagem autêntica\n",
        "    else:\n",
        "        return 0  # Imagem suspeita"
      ],
      "metadata": {
        "id": "sE2-HoyIVgnk"
      },
      "execution_count": 7,
      "outputs": []
    },
    {
      "cell_type": "markdown",
      "source": [
        "# Função para analisar a descrição do texto"
      ],
      "metadata": {
        "id": "O6q-mw8mVsf0"
      }
    },
    {
      "cell_type": "code",
      "source": [
        "def analisar_texto(descricao):\n",
        "    # Cria um cliente para a API de Linguagem Natural\n",
        "    client = language_v1.LanguageServiceClient()\n",
        "\n",
        "    # Analisa o texto\n",
        "    document = language_v1.Document(content=descricao, type_=language_v1.Document.Type.PLAIN_TEXT)\n",
        "    response = client.analyze_sentiment(request={'document': document})\n",
        "\n",
        "    # Extrai a pontuação de sentimento\n",
        "    sentiment_score = response.document_sentiment.score\n",
        "\n",
        "    # Analisa entidades no texto (ex: locais, pessoas)\n",
        "    entities = client.analyze_entities(request={'document': document}).entities\n",
        "\n",
        "    # Atribui pontos com base na análise do texto\n",
        "    pontos = 0\n",
        "    if sentiment_score > 0:  # Sentimento positivo indica maior necessidade\n",
        "        pontos += 10\n",
        "    if len(entities) > 0:  # Descrição mais detalhada com entidades\n",
        "        pontos += 20\n",
        "    # Adiciona pontos para palavras-chave relevantes (alagamento, desabrigado, etc.)\n",
        "    for entity in entities:\n",
        "        if entity.name.lower() in [\"alagamento\", \"desabrigado\", \"socorro\", \"ajuda\"]:\n",
        "            pontos += 5\n",
        "\n",
        "    return pontos"
      ],
      "metadata": {
        "id": "yVELH6SsVszl"
      },
      "execution_count": 8,
      "outputs": []
    },
    {
      "cell_type": "markdown",
      "source": [
        "# Função para calcular o score do pedido de ajuda"
      ],
      "metadata": {
        "id": "7qJ5F3ztWE8s"
      }
    },
    {
      "cell_type": "code",
      "source": [
        "def calculate_help_request_score(imagem_url, descricao, criancas):\n",
        "    score_imagem = analisar_imagem(imagem_url)\n",
        "    score_texto = analisar_texto(descricao)\n",
        "    score_criancas = 20 if criancas else 0\n",
        "    score_total = score_imagem + score_texto + score_criancas\n",
        "    return score_total"
      ],
      "metadata": {
        "id": "sItQZ8yLWFJu"
      },
      "execution_count": 6,
      "outputs": []
    },
    {
      "cell_type": "markdown",
      "source": [
        "# Exemplo de uso"
      ],
      "metadata": {
        "id": "h24OZ8oAWlor"
      }
    },
    {
      "cell_type": "code",
      "source": [
        "\n",
        "imagem_url = \"https://exemplo.com/imagem.jpg\"\n",
        "descricao = \"Perdi tudo no alagamento, estou desabrigado com minha família e precisamos de ajuda.\"\n",
        "criancas = True\n",
        "\n",
        "score = calculate_help_request_score(imagem_url, descricao, criancas)\n",
        "\n",
        "print(f\"Score do pedido de ajuda: {score}\")\n",
        "\n",
        "if score >= 70:\n",
        "    print(\"Pedido de ajuda considerado legítimo.\")\n",
        "else:\n",
        "    print(\"Pedido de ajuda requer investigação adicional.\")"
      ],
      "metadata": {
        "id": "0iNcP81HWmWE"
      },
      "execution_count": null,
      "outputs": []
    },
    {
      "cell_type": "markdown",
      "source": [
        "# Inicializando o chat"
      ],
      "metadata": {
        "id": "8Z5tC9cEYQde"
      }
    },
    {
      "cell_type": "code",
      "source": [
        "chat = model.start_chat(history=[])\n",
        "\n",
        "while True:\n",
        "    # Solicitando informações do pedido de ajuda\n",
        "    imagem = input(\"Digite o caminho da imagem do anúncio de ajuda (ou 'fim' para sair): \")\n",
        "    if imagem == \"fim\":\n",
        "        break\n",
        "    descricao = input(\"Digite a descrição do anúncio de ajuda: \")\n",
        "    criancas = input(\"Há crianças na família? (sim/não): \").lower() == \"sim\"\n",
        "\n",
        "    # Calculando o score do pedido\n",
        "    score = calculate_help_request_score(imagem, descricao, criancas)\n",
        "\n",
        "    # Classificando o pedido e exibindo resultados\n",
        "    if score >= 70:\n",
        "        classificacao = \"Legítimo\"\n",
        "    else:\n",
        "        classificacao = \"Suspeito (requer investigação)\"\n",
        "\n",
        "    print(f\"\\nScore: {score} - Classificação: {classificacao}\")\n",
        "    print(\"-\" * 30)\n",
        "\n",
        "    # Exibindo análise da IA (se disponível)\n",
        "    prompt = [genai.upload_file(imagem),\n",
        "              \"Analise esta imagem e indique se as condições mostradas correspondem a um cenário real de crise climática no Rio Grande do Sul.\"]\n",
        "    response = chat.send_message(prompt)\n",
        "    print(f\"**Análise da IA:** {response.parts[0].text}\")\n",
        "    print(\"-\" * 30)\n",
        "\n",
        "# Exibindo histórico do chat (opcional)"
      ],
      "metadata": {
        "id": "9psgyejyYRRB"
      },
      "execution_count": null,
      "outputs": []
    }
  ]
}