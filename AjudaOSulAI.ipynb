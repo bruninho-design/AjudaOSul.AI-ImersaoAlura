{
  "nbformat": 4,
  "nbformat_minor": 0,
  "metadata": {
    "colab": {
      "provenance": [],
      "include_colab_link": true
    },
    "kernelspec": {
      "name": "python3",
      "display_name": "Python 3"
    },
    "language_info": {
      "name": "python"
    }
  },
  "cells": [
    {
      "cell_type": "markdown",
      "metadata": {
        "id": "view-in-github",
        "colab_type": "text"
      },
      "source": [
        "<a href=\"https://colab.research.google.com/github/bruninho-design/AjudaOSul.AI-ImersaoAlura/blob/main/AjudaOSulAI.ipynb\" target=\"_parent\"><img src=\"https://colab.research.google.com/assets/colab-badge.svg\" alt=\"Open In Colab\"/></a>"
      ]
    },
    {
      "cell_type": "markdown",
      "source": [
        "# Instalação inicial dos pacotes"
      ],
      "metadata": {
        "id": "-bkPhFpbwtgc"
      }
    },
    {
      "cell_type": "code",
      "source": [
        "# Instalar os pacotes.\n",
        "!pip install -q -U google-generativeai"
      ],
      "metadata": {
        "id": "gjpNZRucuLzm"
      },
      "execution_count": 1,
      "outputs": []
    },
    {
      "cell_type": "markdown",
      "source": [
        "# Importar as bibliotecas"
      ],
      "metadata": {
        "id": "Vpz80_gIw5fH"
      }
    },
    {
      "cell_type": "code",
      "source": [
        "# Importar bibliotecas.\n",
        "import pathlib\n",
        "import textwrap\n",
        "import google.generativeai as genai\n",
        "from google.colab import userdata\n",
        "from IPython.display import display\n",
        "from IPython.display import Markdown"
      ],
      "metadata": {
        "id": "Izfz8GUXuMp_"
      },
      "execution_count": 2,
      "outputs": []
    },
    {
      "cell_type": "markdown",
      "source": [
        "# Configurando a API"
      ],
      "metadata": {
        "id": "NHf4rchgxCUd"
      }
    },
    {
      "cell_type": "code",
      "source": [
        "# Configurando a API_KEY.\n",
        "api_key = userdata.get(\"SECRET_KEY\")\n",
        "genai.configure(api_key=api_key)"
      ],
      "metadata": {
        "id": "_PuZQVySuNoN"
      },
      "execution_count": 4,
      "outputs": []
    },
    {
      "cell_type": "markdown",
      "source": [
        "# Instruções e Modelo do Gemini utilizado no projeto"
      ],
      "metadata": {
        "id": "0n9ReN6exNrG"
      }
    },
    {
      "cell_type": "code",
      "source": [
        "# Modelo Generativo para análise de texto e imagem.\n",
        "system_instruction = \"\"\"Olá! Sou AjudaOSul.AI, um sistema inteligente dedicado a\n",
        "combater fraudes em pedidos de ajuda durante situações de crise. Minha missão é\n",
        "analisar descrições e imagens, avaliando sua autenticidade para garantir que a\n",
        "ajuda chegue a quem realmente precisa.\n",
        "\"\"\"\n",
        "\n",
        "model = genai.GenerativeModel(model_name=\"gemini-1.5-pro-latest\", system_instruction=system_instruction)"
      ],
      "metadata": {
        "id": "ijCtBrWduOyI"
      },
      "execution_count": 5,
      "outputs": []
    },
    {
      "cell_type": "markdown",
      "source": [
        "# Funcoes e o Design do Prompt"
      ],
      "metadata": {
        "id": "Z9A6njC8xaEa"
      }
    },
    {
      "cell_type": "code",
      "source": [
        "# Principais Funcoes.\n",
        "\n",
        "# Deixa o texto mais bonitinho.\n",
        "def to_markdown(text):\n",
        "  text = text.replace('•', '  *')\n",
        "  return Markdown(textwrap.indent(text, '> ', predicate=lambda _: True))\n",
        "\n",
        "# Função para analisar pedidos de ajuda e gerar relatório com score\n",
        "def analisar_pedido(descricao, url_imagem=None):\n",
        "  # Prompt para a IA\n",
        "  prompt = f\"\"\"Você é AjudaOSul.AI, um assistente de investigação especializado em identificar fraudes em pedidos de ajuda durante crises.\n",
        "  Receberá descrições e imagens e deve analisá-las para determinar se são autênticas ou fraudulentas.\n",
        "  Para cada entrada, forneça uma análise detalhada dos elementos textuais e visuais que embasam sua conclusão.\n",
        "\n",
        "  Exemplo de Entrada para a IA:\n",
        "  Descrição: Urgente! Nossa casa foi destruída pelas enchentes, precisamos de alimentos e abrigo imediatamente.\n",
        "  Imagem URL: [URL mostrando casa destruída] (opcional)\n",
        "  Pergunta: O pedido menciona crianças?\n",
        "\n",
        "  Ações Esperadas da IA:\n",
        "  * **Análise Textual:** Verificar urgência e desespero na descrição.\n",
        "  Comparar padrões linguísticos com fraudes conhecidas.\n",
        "  Identificar sentimentos e elementos específicos de emergência.\n",
        "  * **Análise Visual:**\n",
        "  Identificar sinais de edição ou manipulação.\n",
        "  Verificar se a imagem é consistente com a descrição.\n",
        "  Analisar metadados para confirmar data e local, se disponível.\n",
        "  * **Análise do Conteúdo:** Verificar se crianças são mencionadas.\n",
        "\n",
        "  Critérios de Avaliação (Score):\n",
        "  * **Contexto da Imagem (40 pontos):** Imagem mostra de forma clara os efeitos da enchente, alinhando-se à descrição.\n",
        "  * **Descrição do Pedido (30 pontos):** Descrição contém palavras-chave como 'enchente' e 'desabrigado'.\n",
        "  * **Presença de Crianças (15 pontos):** Pedido menciona crianças afetadas.\n",
        "  * **Alinhamento entre Imagem e Descrição (10 pontos):** Imagem e descrição corroboram a situação relatada.\n",
        "  * **Palavras-Chave (5 pontos):** Identificação de palavras-chave específicas relacionadas à catástrofe.\n",
        "\n",
        "  Exemplo de Saída:\n",
        "  * **Contexto da Imagem:** 40/40 pontos. Imagem mostra claramente os efeitos da enchente.\n",
        "  * **Descrição do Pedido:** 25/30 pontos. Descrição menciona a necessidade de abrigo e comida.\n",
        "  * **Presença de Crianças:** 15/15 pontos. Menciona três crianças assustadas.\n",
        "  * **Alinhamento entre Imagem e Descrição:** 10/10 pontos. Imagem e texto são coerentes.\n",
        "  * **Palavras-Chave:** 5/5 pontos. Uso adequado de palavras como 'enchente' e 'abrigar'.\n",
        "\n",
        "  Score: 95/100\n",
        "  * **Análise: 'A imagem e a descrição corroboram os efeitos da enchente, mencionando crianças e fornecendo uma descrição detalhada, sugerindo um pedido verdadeiro.'\n",
        "  * **Conclusão: Verdadeiro\n",
        "\n",
        "  Recomendações Finais:\n",
        "  * **Verifique a Legitimidade:** Doe para organizações confiáveis.\n",
        "  * **Plataformas Seguras:** Utilize canais seguros para doar.\n",
        "  * **Eficiência nas Doações:** Prefira doações financeiras ou de suprimentos específicos.\n",
        "  * **Acompanhe o Uso:** Monitore a transparência da organização.\n",
        "  * **Compartilhe Informação:** Divulgue a iniciativa para alcançar mais doadores.\n",
        "\n",
        "  **Verificar pedido de ajuda: ** {descricao}\n",
        "  \"\"\"\n",
        "  if url_imagem:\n",
        "      prompt += f\"\\n**Verificar pedido de ajuda: ** (imagem em anexo: {url_imagem})\"\n",
        "\n",
        "  prompt += \"\\n\\n**Chatbot:**\"\n",
        "\n",
        "  # Enviar prompt para o modelo e obter resposta\n",
        "  response = model.generate_content(prompt)\n",
        "\n",
        "  # Exibir relatório da IA em formato de chat\n",
        "  print(response.text)"
      ],
      "metadata": {
        "id": "PhGtOhZbuP5h"
      },
      "execution_count": 7,
      "outputs": []
    },
    {
      "cell_type": "markdown",
      "source": [
        "# Rodar o modelo"
      ],
      "metadata": {
        "id": "fbNeTDvrxqzM"
      }
    },
    {
      "cell_type": "code",
      "source": [
        "# Loop do chat\n",
        "while True:\n",
        "  # Obter entrada do usuário\n",
        "  descricao = input(\"Verificar pedido de ajuda: \")\n",
        "  url_imagem = input(\"Verificar pedido de ajuda: (URL da imagem - opcional): \")\n",
        "  criancas = input(\"O pedido menciona crianças? (responda 'Sim' ou 'Não'): \")\n",
        "\n",
        "  # Verificar se o usuário deseja sair\n",
        "  if descricao.lower() == \"sair\":\n",
        "    break\n",
        "\n",
        "  # Analisar o pedido e gerar relatório em formato de chat\n",
        "  analisar_pedido(descricao, url_imagem)\n",
        "\n",
        "  print(\"-\" * 50)"
      ],
      "metadata": {
        "colab": {
          "base_uri": "https://localhost:8080/",
          "height": 1000
        },
        "id": "dTyM3zCyvTtr",
        "outputId": "24fc1edf-a447-4e91-f086-72cfea9c87ae"
      },
      "execution_count": 8,
      "outputs": [
        {
          "name": "stdout",
          "output_type": "stream",
          "text": [
            "Verificar pedido de ajuda: Nossa casa está inundada há dias. Precisamos de comida e abrigo imediatamente. Tenho três crianças comigo que estão muito assustadas.\n",
            "Verificar pedido de ajuda: (URL da imagem - opcional): https://s2-g1.glbimg.com/etcEBaVu7SKgJ0l00yAPbTrE5LE=/0x0:5000x3333/1000x0/smart/filters:strip_icc()/i.s3.glbimg.com/v1/AUTH_59edd422c0c84a879bd37670ae4f538a/internal_photos/bs/2024/A/p/PV6edmSYea9wDnLQVgSw/2024-05-09t045400z-255888473-rc2jm7a5av6t-rtrmadp-3-brazil-rains.jpg\n",
            "O pedido menciona crianças? (responda 'Sim' ou 'Não'): Sim\n",
            "## Análise do Pedido de Ajuda:\n",
            "\n",
            "**Descrição:** Nossa casa está inundada há dias. Precisamos de comida e abrigo imediatamente. Tenho três crianças comigo que estão muito assustadas.\n",
            "\n",
            "**Imagem:** https://s2-g1.glbimg.com/etcEBaVu7SKgJ0l00yAPbTrE5LE=/0x0:5000x3333/1000x0/smart/filters:strip_icc()/i.s3.glbimg.com/v1/AUTH_59edd422c0c84a879bd37670ae4f538a/internal_photos/bs/2024/A/p/PV6edmSYea9wDnLQVgSw/2024-05-09t045400z-255888473-rc2jm7a5av6t-rtrmadp-3-brazil-rains.jpg\n",
            "\n",
            "**Análise Textual:**\n",
            "\n",
            "* **Urgência e Desespero:** A descrição expressa urgência (\"imediatamente\") e desespero (\"inundada há dias\", \"crianças assustadas\").\n",
            "* **Padrões Linguísticos:** A linguagem utilizada é simples e direta, condizente com alguém em situação de crise. Não apresenta características de golpes conhecidos.\n",
            "* **Sentimentos e Elementos de Emergência:**  O texto evoca sentimentos de medo e vulnerabilidade, especialmente ao mencionar as crianças. A necessidade de comida e abrigo reforça a gravidade da situação.\n",
            "\n",
            "**Análise Visual:**\n",
            "\n",
            "* **Sinais de Edição/Manipulação:** A imagem parece autêntica, sem sinais de manipulação. \n",
            "* **Consistência com a Descrição:** A imagem retrata uma inundação severa, corroborando a descrição textual. \n",
            "* **Metadados:**  A análise dos metadados da imagem (data, local) pode fornecer informações adicionais para confirmar a autenticidade.\n",
            "\n",
            "**Análise de Conteúdo:**\n",
            "\n",
            "* **Presença de Crianças:** O pedido menciona explicitamente a presença de três crianças.\n",
            "\n",
            "**Critérios de Avaliação (Score):**\n",
            "\n",
            "* **Contexto da Imagem:** 40/40 pontos. A imagem retrata a situação de inundação de forma clara e impactante.\n",
            "* **Descrição do Pedido:** 30/30 pontos. A descrição é detalhada, expressa urgência e menciona necessidades básicas.\n",
            "* **Presença de Crianças:** 15/15 pontos.  A menção das crianças aumenta a vulnerabilidade da situação.\n",
            "* **Alinhamento entre Imagem e Descrição:** 10/10 pontos. Imagem e texto se complementam e constroem uma narrativa coerente.\n",
            "* **Palavras-Chave:** 5/5 pontos.  \"Inundada\", \"comida\" e \"abrigo\" são palavras-chave que contextualizam a crise.\n",
            "\n",
            "**Score Total:** 100/100\n",
            "\n",
            "**Análise:** A imagem impactante, a descrição detalhada e a menção das crianças constroem um relato convincente.  A coerência entre os elementos textuais e visuais aumenta a probabilidade de o pedido ser autêntico.\n",
            "\n",
            "**Conclusão:** Verdadeiro\n",
            "\n",
            "**Recomendações Finais:**\n",
            "\n",
            "* **Verificar a Legitimidade:**  É crucial garantir que as doações cheguem a pessoas realmente necessitadas. Uma breve pesquisa online pode ajudar a confirmar a veracidade da situação, buscando por notícias locais sobre a inundação.\n",
            "* **Plataformas Seguras:** Utilize plataformas de doação confiáveis para evitar golpes.\n",
            "* **Eficiência nas Doações:**  Doações financeiras permitem flexibilidade.  Se possível, entre em contato com a pessoa/família para identificar necessidades específicas. \n",
            "* **Acompanhe o Uso:** Monitore como a organização ou plataforma está utilizando os recursos doados. \n",
            "* **Compartilhe Informação:**  Divulgue a iniciativa para mobilizar mais pessoas a ajudar. \n",
            "\n",
            "--------------------------------------------------\n",
            "Verificar pedido de ajuda: Ei me da dinheiro ai, estou precisando, perdi minhas coisas, preciso de dinheiro\n",
            "Verificar pedido de ajuda: (URL da imagem - opcional): https://i1.wp.com/blog.londrina.pr.gov.br/wp-content/uploads/2023/04-abril/11.04.23/Cidade-Londrina-geral-Gleba-Ayrton-Senna-Emerson-Dias_NCom-1.jpg?resize=1220%2C792&ssl=1\n",
            "O pedido menciona crianças? (responda 'Sim' ou 'Não'): Nao\n",
            "## Análise do Pedido de Ajuda 1: \"Ei me da dinheiro ai, estou precisando, perdi minhas coisas, preciso de dinheiro\"\n",
            "\n",
            "**Análise Textual:**\n",
            "\n",
            "* **Urgência/Desespero:** Presente, mas sem detalhes específicos.\n",
            "* **Padrões Linguísticos:** Linguagem informal e vaga, similar a outros pedidos fraudulentos.\n",
            "* **Sentimentos/Especificidades:** Ausência de detalhes sobre a situação, o que levanta suspeitas.\n",
            "\n",
            "**Análise Visual:** \n",
            "\n",
            "* **N/A:** Não há imagem para analisar.\n",
            "\n",
            "**Análise do Conteúdo:**\n",
            "\n",
            "* **Crianças:** Não menciona crianças. \n",
            "* **Detalhes da Crise:**  Não especifica o tipo de crise ou as \"coisas\" perdidas.\n",
            "\n",
            "**Critérios de Avaliação (Score):**\n",
            "\n",
            "* **Contexto da Imagem:** N/A\n",
            "* **Descrição do Pedido:** 10/30 (linguagem vaga e falta de detalhes)\n",
            "* **Presença de Crianças:** 0/15 \n",
            "* **Alinhamento entre Imagem e Descrição:** N/A\n",
            "* **Palavras-Chave:** 0/5 (ausência de palavras-chave específicas)\n",
            "\n",
            "**Score: 10/100**\n",
            "\n",
            "**Análise:** A descrição é vaga, sem detalhes da crise, apelando apenas para a necessidade financeira. A linguagem informal e a falta de especificidade sugerem um possível pedido fraudulento. \n",
            "\n",
            "**Conclusão:** **Falso**\n",
            "\n",
            "## Análise do Pedido de Ajuda 2: Imagem: https://i1.wp.com/blog.londrina.pr.gov.br/wp-content/uploads/2023/04-abril/11.04.23/Cidade-Londrina-geral-Gleba-Ayrton-Senna-Emerson-Dias_NCom-1.jpg?resize=1220%2C792&ssl=1\n",
            "\n",
            "**Análise Textual:**\n",
            "\n",
            "* **N/A:** Não há descrição textual para analisar.\n",
            "\n",
            "**Análise Visual:**\n",
            "\n",
            "* **Edição/Manipulação:**  Não há sinais aparentes de edição ou manipulação na imagem.\n",
            "* **Consistência:** Sem descrição textual, a imagem em si não fornece informações suficientes.\n",
            "* **Metadados:**  A fonte da imagem (blog da prefeitura de Londrina) sugere possível contexto oficial. \n",
            "\n",
            "**Análise do Conteúdo:**\n",
            "\n",
            "* **Crianças:**  Possível presença de crianças na imagem, mas sem confirmação. \n",
            "* **Detalhes da Crise:** A imagem mostra uma área inundada, indicando uma enchente. \n",
            "\n",
            "**Critérios de Avaliação (Score):**\n",
            "\n",
            "* **Contexto da Imagem:** 30/40 (imagem autêntica, mas sem descrição para contexto completo)\n",
            "* **Descrição do Pedido:**  N/A\n",
            "* **Presença de Crianças:** 5/15 (possível, mas não confirmada)\n",
            "* **Alinhamento entre Imagem e Descrição:** N/A\n",
            "* **Palavras-Chave:** N/A\n",
            "\n",
            "**Score: 35/100**\n",
            "\n",
            "**Análise:** A imagem parece autêntica e retrata uma enchente, mas sem descrição textual, é impossível determinar a intenção do pedido. A fonte da imagem sugere um contexto oficial, o que pode indicar um pedido legítimo de ajuda.\n",
            "\n",
            "**Conclusão:** **Inconclusivo**.  É necessário obter mais informações, como uma descrição do pedido, para avaliar a autenticidade. \n",
            "\n",
            "## Recomendações Finais:\n",
            "\n",
            "* **Verificar a Legitimidade:**  No caso da imagem, busque informações adicionais sobre a enchente em Londrina em fontes confiáveis.\n",
            "* **Plataformas Seguras:** Utilize canais oficiais de doação ou ONGs reconhecidas.\n",
            "* **Eficiência nas Doações:**  Priorize doações de itens específicos ou dinheiro para organizações que atuam na crise.\n",
            "* **Acompanhe o Uso:** Monitore a transparência das organizações e o uso dos recursos.\n",
            "* **Compartilhe Informação:** Divulgue informações sobre a crise e como ajudar de forma segura. \n",
            "\n",
            "--------------------------------------------------\n",
            "Verificar pedido de ajuda: Sair\n",
            "Verificar pedido de ajuda: (URL da imagem - opcional): Sair\n",
            "O pedido menciona crianças? (responda 'Sim' ou 'Não'): air\n"
          ]
        }
      ]
    },
    {
      "cell_type": "markdown",
      "source": [],
      "metadata": {
        "id": "BZInteukwmVV"
      }
    }
  ]
}